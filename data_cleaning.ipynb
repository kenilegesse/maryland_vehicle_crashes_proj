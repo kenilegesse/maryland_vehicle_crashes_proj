{
 "cells": [
  {
   "cell_type": "code",
   "execution_count": 1,
   "id": "a66739ba",
   "metadata": {},
   "outputs": [],
   "source": [
    "import pandas as pd"
   ]
  },
  {
   "cell_type": "code",
   "execution_count": 2,
   "id": "0473a32f",
   "metadata": {},
   "outputs": [
    {
     "name": "stderr",
     "output_type": "stream",
     "text": [
      "C:\\Users\\kenes\\AppData\\Local\\Temp\\ipykernel_12400\\1495175642.py:1: DtypeWarning: Columns (33,45) have mixed types. Specify dtype option on import or set low_memory=False.\n",
      "  df = pd.read_csv('maryland_statewide_vehicle_crashes.csv')\n"
     ]
    }
   ],
   "source": [
    "df = pd.read_csv('maryland_statewide_vehicle_crashes.csv')"
   ]
  },
  {
   "cell_type": "code",
   "execution_count": 4,
   "id": "b04d1d63",
   "metadata": {},
   "outputs": [
    {
     "data": {
      "text/plain": [
       "(878343, 55)"
      ]
     },
     "execution_count": 4,
     "metadata": {},
     "output_type": "execute_result"
    }
   ],
   "source": [
    "df.shape"
   ]
  },
  {
   "cell_type": "code",
   "execution_count": null,
   "id": "121a5702",
   "metadata": {},
   "outputs": [],
   "source": []
  }
 ],
 "metadata": {
  "kernelspec": {
   "display_name": "Python 3 (ipykernel)",
   "language": "python",
   "name": "python3"
  },
  "language_info": {
   "codemirror_mode": {
    "name": "ipython",
    "version": 3
   },
   "file_extension": ".py",
   "mimetype": "text/x-python",
   "name": "python",
   "nbconvert_exporter": "python",
   "pygments_lexer": "ipython3",
   "version": "3.9.13"
  }
 },
 "nbformat": 4,
 "nbformat_minor": 5
}
